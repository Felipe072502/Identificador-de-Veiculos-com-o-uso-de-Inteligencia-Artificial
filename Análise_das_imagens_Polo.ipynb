{
  "nbformat": 4,
  "nbformat_minor": 0,
  "metadata": {
    "colab": {
      "provenance": []
    },
    "kernelspec": {
      "name": "python3",
      "display_name": "Python 3"
    },
    "language_info": {
      "name": "python"
    }
  },
  "cells": [
    {
      "source": [
        "import tensorflow as tf\n",
        "from tensorflow import keras\n",
        "from tensorflow.keras import layers\n",
        "import matplotlib.pyplot as plt\n",
        "import numpy as np\n",
        "from tensorflow.keras.preprocessing.image import ImageDataGenerator"
      ],
      "cell_type": "code",
      "metadata": {
        "id": "O2UVguSMXelc"
      },
      "execution_count": null,
      "outputs": []
    },
    {
      "cell_type": "code",
      "source": [
        "from google.colab import drive\n",
        "drive.mount('/content/drive')"
      ],
      "metadata": {
        "colab": {
          "base_uri": "https://localhost:8080/"
        },
        "id": "Huuia1I5PLM9",
        "outputId": "f2a79464-9453-4d5c-eb63-6372594b0bd2"
      },
      "execution_count": null,
      "outputs": [
        {
          "output_type": "stream",
          "name": "stdout",
          "text": [
            "Mounted at /content/drive\n"
          ]
        }
      ]
    },
    {
      "source": [
        "'''import zipfile\n",
        "with zipfile.ZipFile('/content/drive/MyDrive/pasta_principal/Polo.zip', 'r') as zip_ref:\n",
        "    zip_ref.extractall('/content/drive/MyDrive/pasta_principal') # Descompacta para a pasta 'pasta_principal'\n",
        "'''"
      ],
      "cell_type": "code",
      "metadata": {
        "colab": {
          "base_uri": "https://localhost:8080/",
          "height": 53
        },
        "id": "F7dpeQqyXaWZ",
        "outputId": "a53c724c-a5a6-4218-88c2-4e1a387ef561"
      },
      "execution_count": null,
      "outputs": [
        {
          "output_type": "execute_result",
          "data": {
            "text/plain": [
              "\"import zipfile\\nwith zipfile.ZipFile('/content/drive/MyDrive/pasta_principal/Polo.zip', 'r') as zip_ref:\\n    zip_ref.extractall('/content/drive/MyDrive/pasta_principal') # Descompacta para a pasta 'pasta_principal'\\n\""
            ],
            "application/vnd.google.colaboratory.intrinsic+json": {
              "type": "string"
            }
          },
          "metadata": {},
          "execution_count": 3
        }
      ]
    },
    {
      "source": [
        "import os\n",
        "import pandas as pd\n",
        "from google.colab import drive\n",
        "from tensorflow.keras.preprocessing.image import ImageDataGenerator\n",
        "import tensorflow as tf\n",
        "from tensorflow import keras\n",
        "from tensorflow.keras import layers\n",
        "\n",
        "# Montar o Google Drive (se necessário)\n",
        "drive.mount('/content/drive')\n",
        "\n",
        "# Caminho base para as imagens\n",
        "base_path = '/content/drive/MyDrive/pasta_principal/Polo'\n",
        "\n",
        "# Listas de anos e cores\n",
        "anos = [2000, 2001, 2002, 2003, 2006, 2007, 2008, 2009, 2010, 2012, 2019]\n",
        "cores = ['Black', 'Grey', 'White']\n",
        "\n",
        "# Inicializar listas para armazenar os dados\n",
        "filenames = []\n",
        "classes = []\n",
        "\n",
        "# Iterar sobre os anos e cores para coletar os dados\n",
        "for ano in anos:\n",
        "    for cor in cores:\n",
        "        folder_path = os.path.join(base_path, str(ano), cor)\n",
        "        if os.path.exists(folder_path):\n",
        "            for filename in os.listdir(folder_path):\n",
        "                image_path = os.path.join(folder_path, filename)\n",
        "                filenames.append(image_path)\n",
        "                classes.append(cor)\n",
        "\n",
        "# Criar o DataFrame\n",
        "df = pd.DataFrame({'filename': filenames, 'class': classes})\n",
        "\n",
        "# Criar geradores de dados de imagem para treinamento e validação\n",
        "train_datagen = ImageDataGenerator(\n",
        "    rescale=1./255,\n",
        "    shear_range=0.2,\n",
        "    zoom_range=0.2,\n",
        "    horizontal_flip=True\n",
        ")\n",
        "test_datagen = ImageDataGenerator(rescale=1./255)\n",
        "\n",
        "# Usar flow_from_dataframe com o DataFrame 'df'\n",
        "train_generator = train_datagen.flow_from_dataframe(\n",
        "    dataframe=df,\n",
        "    x_col=\"filename\",\n",
        "    y_col=\"class\",\n",
        "    target_size=(150, 150),\n",
        "    batch_size=32,\n",
        "    class_mode='categorical'\n",
        ")\n",
        "\n",
        "validation_generator = test_datagen.flow_from_dataframe(\n",
        "    dataframe=df,\n",
        "    x_col=\"filename\",\n",
        "    y_col=\"class\",\n",
        "    target_size=(150, 150),\n",
        "    batch_size=32,\n",
        "    class_mode='categorical'\n",
        ")"
      ],
      "cell_type": "code",
      "metadata": {
        "colab": {
          "base_uri": "https://localhost:8080/"
        },
        "id": "sn6M6oEhiA23",
        "outputId": "647ce5f8-200b-471b-940c-52f863d4ec53"
      },
      "execution_count": null,
      "outputs": [
        {
          "output_type": "stream",
          "name": "stdout",
          "text": [
            "Drive already mounted at /content/drive; to attempt to forcibly remount, call drive.mount(\"/content/drive\", force_remount=True).\n",
            "Found 2212 validated image filenames belonging to 3 classes.\n",
            "Found 2212 validated image filenames belonging to 3 classes.\n"
          ]
        }
      ]
    },
    {
      "source": [
        "# Criar o modelo de Deep Learning\n",
        "model = keras.Sequential([\n",
        "    layers.Conv2D(32, (3, 3), activation='relu', input_shape=(150, 150, 3)),\n",
        "    layers.MaxPooling2D((2, 2)),\n",
        "    layers.Conv2D(64, (3, 3), activation='relu'),\n",
        "    layers.MaxPooling2D((2, 2)),\n",
        "    layers.Conv2D(128, (3, 3), activation='relu'),\n",
        "    layers.MaxPooling2D((2, 2)),\n",
        "    layers.Flatten(),\n",
        "    layers.Dense(128, activation='relu'),\n",
        "    layers.Dense(len(cores), activation='softmax')  # Número de neurônios de saída = número de classes (cores)\n",
        "])\n",
        "\n",
        "# Compilar o modelo\n",
        "model.compile(loss='categorical_crossentropy',  # Usar 'categorical_crossentropy' para múltiplas classes\n",
        "              optimizer='adam',\n",
        "              metrics=['accuracy'])\n",
        "\n",
        "# Treinar o modelo\n",
        "history = model.fit(\n",
        "    train_generator,\n",
        "    steps_per_epoch=train_generator.samples // train_generator.batch_size,\n",
        "    epochs=10,  # Número de épocas de treinamento\n",
        "    validation_data=validation_generator,\n",
        "    validation_steps=validation_generator.samples // validation_generator.batch_size\n",
        ")"
      ],
      "cell_type": "code",
      "metadata": {
        "id": "OSCbmEd6iXt_",
        "colab": {
          "base_uri": "https://localhost:8080/"
        },
        "outputId": "84ad079f-d005-4a95-bc3b-5e7734065fc5"
      },
      "execution_count": null,
      "outputs": [
        {
          "output_type": "stream",
          "name": "stderr",
          "text": [
            "/usr/local/lib/python3.10/dist-packages/keras/src/layers/convolutional/base_conv.py:107: UserWarning: Do not pass an `input_shape`/`input_dim` argument to a layer. When using Sequential models, prefer using an `Input(shape)` object as the first layer in the model instead.\n",
            "  super().__init__(activity_regularizer=activity_regularizer, **kwargs)\n"
          ]
        },
        {
          "output_type": "stream",
          "name": "stdout",
          "text": [
            "Epoch 1/10\n"
          ]
        },
        {
          "output_type": "stream",
          "name": "stderr",
          "text": [
            "/usr/local/lib/python3.10/dist-packages/keras/src/trainers/data_adapters/py_dataset_adapter.py:121: UserWarning: Your `PyDataset` class should call `super().__init__(**kwargs)` in its constructor. `**kwargs` can include `workers`, `use_multiprocessing`, `max_queue_size`. Do not pass these arguments to `fit()`, as they will be ignored.\n",
            "  self._warn_if_super_not_called()\n"
          ]
        },
        {
          "output_type": "stream",
          "name": "stdout",
          "text": [
            "\u001b[1m69/69\u001b[0m \u001b[32m━━━━━━━━━━━━━━━━━━━━\u001b[0m\u001b[37m\u001b[0m \u001b[1m761s\u001b[0m 10s/step - accuracy: 0.5380 - loss: 1.1029 - val_accuracy: 0.6775 - val_loss: 0.6231\n",
            "Epoch 2/10\n",
            "\u001b[1m 1/69\u001b[0m \u001b[37m━━━━━━━━━━━━━━━━━━━━\u001b[0m \u001b[1m1:36\u001b[0m 1s/step - accuracy: 0.7812 - loss: 0.5117"
          ]
        },
        {
          "output_type": "stream",
          "name": "stderr",
          "text": [
            "/usr/lib/python3.10/contextlib.py:153: UserWarning: Your input ran out of data; interrupting training. Make sure that your dataset or generator can generate at least `steps_per_epoch * epochs` batches. You may need to use the `.repeat()` function when building your dataset.\n",
            "  self.gen.throw(typ, value, traceback)\n"
          ]
        },
        {
          "output_type": "stream",
          "name": "stdout",
          "text": [
            "\b\b\b\b\b\b\b\b\b\b\b\b\b\b\b\b\b\b\b\b\b\b\b\b\b\b\b\b\b\b\b\b\b\b\b\b\b\b\b\b\b\b\b\b\b\b\b\b\b\b\b\b\b\b\b\b\b\b\b\b\b\b\b\b\b\b\b\b\b\b\b\b\b\r\u001b[1m69/69\u001b[0m \u001b[32m━━━━━━━━━━━━━━━━━━━━\u001b[0m\u001b[37m\u001b[0m \u001b[1m40s\u001b[0m 566ms/step - accuracy: 0.7812 - loss: 0.5117 - val_accuracy: 0.5000 - val_loss: 0.8301\n",
            "Epoch 3/10\n",
            "\u001b[1m69/69\u001b[0m \u001b[32m━━━━━━━━━━━━━━━━━━━━\u001b[0m\u001b[37m\u001b[0m \u001b[1m178s\u001b[0m 2s/step - accuracy: 0.7425 - loss: 0.5779 - val_accuracy: 0.7998 - val_loss: 0.4600\n",
            "Epoch 4/10\n",
            "\u001b[1m69/69\u001b[0m \u001b[32m━━━━━━━━━━━━━━━━━━━━\u001b[0m\u001b[37m\u001b[0m \u001b[1m43s\u001b[0m 596ms/step - accuracy: 0.8125 - loss: 0.5148 - val_accuracy: 0.7500 - val_loss: 0.2493\n",
            "Epoch 5/10\n",
            "\u001b[1m69/69\u001b[0m \u001b[32m━━━━━━━━━━━━━━━━━━━━\u001b[0m\u001b[37m\u001b[0m \u001b[1m216s\u001b[0m 2s/step - accuracy: 0.7863 - loss: 0.4821 - val_accuracy: 0.8469 - val_loss: 0.3716\n",
            "Epoch 6/10\n",
            "\u001b[1m69/69\u001b[0m \u001b[32m━━━━━━━━━━━━━━━━━━━━\u001b[0m\u001b[37m\u001b[0m \u001b[1m40s\u001b[0m 574ms/step - accuracy: 0.9375 - loss: 0.3498 - val_accuracy: 1.0000 - val_loss: 0.1331\n",
            "Epoch 7/10\n",
            "\u001b[1m69/69\u001b[0m \u001b[32m━━━━━━━━━━━━━━━━━━━━\u001b[0m\u001b[37m\u001b[0m \u001b[1m217s\u001b[0m 2s/step - accuracy: 0.8123 - loss: 0.4315 - val_accuracy: 0.8655 - val_loss: 0.3367\n",
            "Epoch 8/10\n",
            "\u001b[1m69/69\u001b[0m \u001b[32m━━━━━━━━━━━━━━━━━━━━\u001b[0m\u001b[37m\u001b[0m \u001b[1m3s\u001b[0m 17ms/step - accuracy: 0.7812 - loss: 0.3952 - val_accuracy: 0.7500 - val_loss: 0.3290\n",
            "Epoch 9/10\n",
            "\u001b[1m69/69\u001b[0m \u001b[32m━━━━━━━━━━━━━━━━━━━━\u001b[0m\u001b[37m\u001b[0m \u001b[1m201s\u001b[0m 2s/step - accuracy: 0.8307 - loss: 0.4016 - val_accuracy: 0.8755 - val_loss: 0.3110\n",
            "Epoch 10/10\n",
            "\u001b[1m69/69\u001b[0m \u001b[32m━━━━━━━━━━━━━━━━━━━━\u001b[0m\u001b[37m\u001b[0m \u001b[1m41s\u001b[0m 586ms/step - accuracy: 0.8750 - loss: 0.3563 - val_accuracy: 0.5000 - val_loss: 0.7262\n"
          ]
        }
      ]
    },
    {
      "source": [
        "# Avaliar o modelo\n",
        "validation_steps = 69  # Número de passos de validação calculado\n",
        "loss, accuracy = model.evaluate(validation_generator, steps=validation_steps)\n",
        "print('Loss:', loss)\n",
        "print('Accuracy:', accuracy)"
      ],
      "cell_type": "code",
      "metadata": {
        "id": "GOyIfqfJnRTu",
        "colab": {
          "base_uri": "https://localhost:8080/"
        },
        "outputId": "678f9951-4b64-4060-f302-53636e0d4955"
      },
      "execution_count": null,
      "outputs": [
        {
          "output_type": "stream",
          "name": "stdout",
          "text": [
            "\u001b[1m69/69\u001b[0m \u001b[32m━━━━━━━━━━━━━━━━━━━━\u001b[0m\u001b[37m\u001b[0m \u001b[1m42s\u001b[0m 603ms/step - accuracy: 0.8746 - loss: 0.3135\n",
            "Loss: 0.31070345640182495\n",
            "Accuracy: 0.8740941882133484\n"
          ]
        }
      ]
    },
    {
      "source": [
        "import matplotlib.pyplot as plt\n",
        "\n",
        "plt.plot(history.history['accuracy'], label='Acurácia')  # Label da linha de acurácia\n",
        "plt.plot(history.history['val_accuracy'], label='Acurácia de Validação')  # Label da linha de acurácia de validação\n",
        "plt.xlabel('Época')  # Label do eixo x\n",
        "plt.ylabel('Acurácia')  # Label do eixo y\n",
        "plt.title('Acurácia do Modelo Polo')  # Título do gráfico\n",
        "plt.legend(loc='lower right')\n",
        "plt.show()"
      ],
      "cell_type": "code",
      "metadata": {
        "id": "dUBrwXrOoWTU",
        "colab": {
          "base_uri": "https://localhost:8080/",
          "height": 474
        },
        "outputId": "8e2a34d5-e6f1-4ca5-cfd1-149b586aadc0"
      },
      "execution_count": null,
      "outputs": [
        {
          "output_type": "display_data",
          "data": {
            "text/plain": [
              "<Figure size 640x480 with 1 Axes>"
            ],
            "image/png": "[encoded data removed]"
          },
          "metadata": {}
        }
      ]
    },
    {
      "cell_type": "code",
      "source": [
        "import matplotlib.pyplot as plt\n",
        "\n",
        "plt.plot(history.history['loss'], label='Perda (loss)')\n",
        "plt.plot(history.history['val_loss'], label='Perda de Validação (val_loss)')\n",
        "plt.title('Gráfico de Perda do Modelo Civic')\n",
        "plt.xlabel('Época')\n",
        "plt.ylabel('Perda')\n",
        "plt.legend(loc='upper right')  # Ajusta a posição da legenda para melhor visualização\n",
        "plt.show()"
      ],
      "metadata": {
        "id": "we-BT0yzyTWe"
      },
      "execution_count": null,
      "outputs": []
    }
  ]
}
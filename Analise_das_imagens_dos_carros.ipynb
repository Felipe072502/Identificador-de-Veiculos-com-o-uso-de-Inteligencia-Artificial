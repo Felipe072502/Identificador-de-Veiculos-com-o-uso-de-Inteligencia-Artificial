{
  "nbformat": 4,
  "nbformat_minor": 0,
  "metadata": {
    "colab": {
      "provenance": []
    },
    "kernelspec": {
      "name": "python3",
      "display_name": "Python 3"
    },
    "language_info": {
      "name": "python"
    }
  },
  "cells": [
    {
      "source": [
        "import tensorflow as tf\n",
        "from tensorflow import keras\n",
        "from tensorflow.keras import layers\n",
        "import matplotlib.pyplot as plt\n",
        "import numpy as np\n",
        "from tensorflow.keras.preprocessing.image import ImageDataGenerator"
      ],
      "cell_type": "code",
      "metadata": {
        "id": "O2UVguSMXelc"
      },
      "execution_count": null,
      "outputs": []
    },
    {
      "source": [
        "'''import zipfile\n",
        "with zipfile.ZipFile('/content/drive/MyDrive/pasta_principal/Civic.zip', 'r') as zip_ref:\n",
        "    zip_ref.extractall('/content/drive/MyDrive/pasta_principal') # Descompacta para a pasta 'pasta_principal'\n",
        "'''"
      ],
      "cell_type": "code",
      "metadata": {
        "colab": {
          "base_uri": "https://localhost:8080/",
          "height": 70
        },
        "id": "F7dpeQqyXaWZ",
        "outputId": "cbc738e9-0bb7-450b-989e-a606c7d4a627"
      },
      "execution_count": null,
      "outputs": [
        {
          "output_type": "execute_result",
          "data": {
            "text/plain": [
              "\"import zipfile\\nwith zipfile.ZipFile('/content/drive/MyDrive/pasta_principal/Civic.zip', 'r') as zip_ref:\\n    zip_ref.extractall('/content/drive/MyDrive/pasta_principal') # Descompacta para a pasta 'pasta_principal'\\n\""
            ],
            "application/vnd.google.colaboratory.intrinsic+json": {
              "type": "string"
            }
          },
          "metadata": {},
          "execution_count": 2
        }
      ]
    },
    {
      "source": [
        "'''import zipfile\n",
        "with zipfile.ZipFile('/content/drive/MyDrive/pasta_principal/Civic.zip', 'r') as zip_ref:\n",
        "    zip_ref.extractall('/content/drive/MyDrive/pasta_principal') # Descompacta para a pasta 'pasta_principal'\n",
        "'''"
      ],
      "cell_type": "code",
      "metadata": {
        "colab": {
          "base_uri": "https://localhost:8080/",
          "height": 70
        },
        "outputId": "d6540971-667e-4d06-ec32-8e08994b34f8",
        "id": "XGHpuXJGQ3Ik"
      },
      "execution_count": null,
      "outputs": [
        {
          "output_type": "execute_result",
          "data": {
            "text/plain": [
              "\"import zipfile\\nwith zipfile.ZipFile('/content/drive/MyDrive/pasta_principal/Civic.zip', 'r') as zip_ref:\\n    zip_ref.extractall('/content/drive/MyDrive/pasta_principal') # Descompacta para a pasta 'pasta_principal'\\n\""
            ],
            "application/vnd.google.colaboratory.intrinsic+json": {
              "type": "string"
            }
          },
          "metadata": {},
          "execution_count": 3
        }
      ]
    },
    {
      "source": [
        "'''import zipfile\n",
        "with zipfile.ZipFile('/content/drive/MyDrive/pasta_principal/Q3.zip', 'r') as zip_ref:\n",
        "    zip_ref.extractall('/content/drive/MyDrive/pasta_principal') # Descompacta para a pasta 'pasta_principal'\n",
        "'''"
      ],
      "cell_type": "code",
      "metadata": {
        "colab": {
          "base_uri": "https://localhost:8080/",
          "height": 70
        },
        "outputId": "44ce7f78-9dda-4203-fc8a-cd6c43fc6b2d",
        "id": "6eJlR38PQ3cR"
      },
      "execution_count": null,
      "outputs": [
        {
          "output_type": "execute_result",
          "data": {
            "text/plain": [
              "\"import zipfile\\nwith zipfile.ZipFile('/content/drive/MyDrive/pasta_principal/Q3.zip', 'r') as zip_ref:\\n    zip_ref.extractall('/content/drive/MyDrive/pasta_principal') # Descompacta para a pasta 'pasta_principal'\\n\""
            ],
            "application/vnd.google.colaboratory.intrinsic+json": {
              "type": "string"
            }
          },
          "metadata": {},
          "execution_count": 4
        }
      ]
    },
    {
      "source": [
        "import os\n",
        "import pandas as pd\n",
        "from google.colab import drive\n",
        "from tensorflow.keras.preprocessing.image import ImageDataGenerator\n",
        "import tensorflow as tf\n",
        "from tensorflow import keras\n",
        "from tensorflow.keras import layers\n",
        "\n",
        "# Montar o Google Drive (se necessário)\n",
        "drive.mount('/content/drive')\n",
        "\n",
        "# Caminhos base para as imagens\n",
        "base_paths = [\n",
        "    '/content/drive/MyDrive/pasta_principal/Polo',\n",
        "    '/content/drive/MyDrive/pasta_principal/Q3',\n",
        "    '/content/drive/MyDrive/pasta_principal/Civic'\n",
        "]\n",
        "\n",
        "# Listas de anos e cores\n",
        "anos = [2000, 2001, 2002, 2003, 2004, 2005, 2006, 2007, 2008, 2009, 2010, 2012, 2013, 2014, 2015, 2016, 2017, 2018, 2019]\n",
        "cores = ['Black', 'Grey', 'White', 'Blue', 'Silver', 'Red']\n",
        "\n",
        "# Inicializar listas para armazenar os dados\n",
        "filenames = []\n",
        "classes = []\n",
        "modelos = []  # Nova lista para armazenar os modelos dos carros\n",
        "\n",
        "# Iterar sobre os caminhos base, anos e cores para coletar os dados\n",
        "for base_path in base_paths:\n",
        "    modelo = os.path.basename(base_path)  # Obter o nome do modelo do caminho\n",
        "    for ano in anos:\n",
        "        for cor in cores:\n",
        "            folder_path = os.path.join(base_path, str(ano), cor)\n",
        "            if os.path.exists(folder_path):\n",
        "                for filename in os.listdir(folder_path):\n",
        "                    image_path = os.path.join(folder_path, filename)\n",
        "                    filenames.append(image_path)\n",
        "                    classes.append(cor)\n",
        "                    modelos.append(modelo)  # Adicionar o modelo à lista\n",
        "\n",
        "# Criar o DataFrame\n",
        "df = pd.DataFrame({'filename': filenames, 'class': classes, 'modelo': modelos})\n",
        "\n",
        "# Criar geradores de dados de imagem para treinamento e validação\n",
        "train_datagen = ImageDataGenerator(\n",
        "    rescale=1./255,\n",
        "    shear_range=0.2,\n",
        "    zoom_range=0.2,\n",
        "    horizontal_flip=True\n",
        ")\n",
        "test_datagen = ImageDataGenerator(rescale=1./255)\n",
        "\n",
        "# Usar flow_from_dataframe com o DataFrame 'df'\n",
        "train_generator = train_datagen.flow_from_dataframe(\n",
        "    dataframe=df,\n",
        "    x_col=\"filename\",\n",
        "    y_col=\"class\",\n",
        "    target_size=(150, 150),\n",
        "    batch_size=32,\n",
        "    class_mode='categorical'\n",
        ")\n",
        "\n",
        "validation_generator = test_datagen.flow_from_dataframe(\n",
        "    dataframe=df,\n",
        "    x_col=\"filename\",\n",
        "    y_col=\"class\",\n",
        "    target_size=(150, 150),\n",
        "    batch_size=32,\n",
        "    class_mode='categorical'\n",
        ")"
      ],
      "cell_type": "code",
      "metadata": {
        "colab": {
          "base_uri": "https://localhost:8080/"
        },
        "id": "sn6M6oEhiA23",
        "outputId": "63d3d4d0-19e9-4bda-d35b-a794d81c3357"
      },
      "execution_count": null,
      "outputs": [
        {
          "output_type": "stream",
          "name": "stdout",
          "text": [
            "Drive already mounted at /content/drive; to attempt to forcibly remount, call drive.mount(\"/content/drive\", force_remount=True).\n",
            "Found 17341 validated image filenames belonging to 6 classes.\n",
            "Found 17341 validated image filenames belonging to 6 classes.\n"
          ]
        }
      ]
    },
    {
      "source": [
        "# Criar o modelo de Deep Learning\n",
        "model = keras.Sequential([\n",
        "    layers.Conv2D(32, (3, 3), activation='relu', input_shape=(150, 150, 3)),\n",
        "    layers.MaxPooling2D((2, 2)),\n",
        "    layers.Conv2D(64, (3, 3), activation='relu'),\n",
        "    layers.MaxPooling2D((2, 2)),\n",
        "    layers.Conv2D(128, (3, 3), activation='relu'),\n",
        "    layers.MaxPooling2D((2, 2)),\n",
        "    layers.Flatten(),\n",
        "    layers.Dense(128, activation='relu'),\n",
        "    layers.Dense(len(cores), activation='softmax')  # Número de neurônios de saída = número de classes (cores)\n",
        "])\n",
        "\n",
        "# Compilar o modelo\n",
        "model.compile(loss='categorical_crossentropy',  # Usar 'categorical_crossentropy' para múltiplas classes\n",
        "              optimizer='adam',\n",
        "              metrics=['accuracy'])\n",
        "\n",
        "# Treinar o modelo\n",
        "history = model.fit(\n",
        "    train_generator,\n",
        "    steps_per_epoch=train_generator.samples // train_generator.batch_size,\n",
        "    epochs=10,  # Número de épocas de treinamento\n",
        "    validation_data=validation_generator,\n",
        "    validation_steps=validation_generator.samples // validation_generator.batch_size\n",
        ")"
      ],
      "cell_type": "code",
      "metadata": {
        "colab": {
          "base_uri": "https://localhost:8080/"
        },
        "id": "OSCbmEd6iXt_",
        "outputId": "b023b802-f654-45bd-d1aa-5883658dc40b"
      },
      "execution_count": null,
      "outputs": [
        {
          "output_type": "stream",
          "name": "stderr",
          "text": [
            "/usr/local/lib/python3.10/dist-packages/keras/src/layers/convolutional/base_conv.py:107: UserWarning: Do not pass an `input_shape`/`input_dim` argument to a layer. When using Sequential models, prefer using an `Input(shape)` object as the first layer in the model instead.\n",
            "  super().__init__(activity_regularizer=activity_regularizer, **kwargs)\n"
          ]
        },
        {
          "output_type": "stream",
          "name": "stdout",
          "text": [
            "Epoch 1/10\n"
          ]
        },
        {
          "output_type": "stream",
          "name": "stderr",
          "text": [
            "/usr/local/lib/python3.10/dist-packages/keras/src/trainers/data_adapters/py_dataset_adapter.py:121: UserWarning: Your `PyDataset` class should call `super().__init__(**kwargs)` in its constructor. `**kwargs` can include `workers`, `use_multiprocessing`, `max_queue_size`. Do not pass these arguments to `fit()`, as they will be ignored.\n",
            "  self._warn_if_super_not_called()\n"
          ]
        },
        {
          "output_type": "stream",
          "name": "stdout",
          "text": [
            "\u001b[1m541/541\u001b[0m \u001b[32m━━━━━━━━━━━━━━━━━━━━\u001b[0m\u001b[37m\u001b[0m \u001b[1m2073s\u001b[0m 4s/step - accuracy: 0.5171 - loss: 1.1910 - val_accuracy: 0.7627 - val_loss: 0.6229\n",
            "Epoch 2/10\n",
            "\u001b[1m  1/541\u001b[0m \u001b[37m━━━━━━━━━━━━━━━━━━━━\u001b[0m \u001b[1m17:48\u001b[0m 2s/step - accuracy: 0.6250 - loss: 0.8822"
          ]
        },
        {
          "output_type": "stream",
          "name": "stderr",
          "text": [
            "/usr/lib/python3.10/contextlib.py:153: UserWarning: Your input ran out of data; interrupting training. Make sure that your dataset or generator can generate at least `steps_per_epoch * epochs` batches. You may need to use the `.repeat()` function when building your dataset.\n",
            "  self.gen.throw(typ, value, traceback)\n"
          ]
        },
        {
          "output_type": "stream",
          "name": "stdout",
          "text": [
            "\b\b\b\b\b\b\b\b\b\b\b\b\b\b\b\b\b\b\b\b\b\b\b\b\b\b\b\b\b\b\b\b\b\b\b\b\b\b\b\b\b\b\b\b\b\b\b\b\b\b\b\b\b\b\b\b\b\b\b\b\b\b\b\b\b\b\b\b\b\b\b\b\b\b\b\b\r\u001b[1m541/541\u001b[0m \u001b[32m━━━━━━━━━━━━━━━━━━━━\u001b[0m\u001b[37m\u001b[0m \u001b[1m33s\u001b[0m 58ms/step - accuracy: 0.6250 - loss: 0.8822 - val_accuracy: 0.7586 - val_loss: 0.5223\n",
            "Epoch 3/10\n",
            "\u001b[1m541/541\u001b[0m \u001b[32m━━━━━━━━━━━━━━━━━━━━\u001b[0m\u001b[37m\u001b[0m \u001b[1m1240s\u001b[0m 2s/step - accuracy: 0.7687 - loss: 0.6173 - val_accuracy: 0.8266 - val_loss: 0.4707\n",
            "Epoch 4/10\n",
            "\u001b[1m541/541\u001b[0m \u001b[32m━━━━━━━━━━━━━━━━━━━━\u001b[0m\u001b[37m\u001b[0m \u001b[1m2s\u001b[0m 645us/step - accuracy: 0.7812 - loss: 0.6554 - val_accuracy: 0.7586 - val_loss: 0.4043\n",
            "Epoch 5/10\n",
            "\u001b[1m541/541\u001b[0m \u001b[32m━━━━━━━━━━━━━━━━━━━━\u001b[0m\u001b[37m\u001b[0m \u001b[1m1285s\u001b[0m 2s/step - accuracy: 0.8114 - loss: 0.5102 - val_accuracy: 0.8314 - val_loss: 0.4597\n",
            "Epoch 6/10\n",
            "\u001b[1m541/541\u001b[0m \u001b[32m━━━━━━━━━━━━━━━━━━━━\u001b[0m\u001b[37m\u001b[0m \u001b[1m2s\u001b[0m 1ms/step - accuracy: 0.9062 - loss: 0.3002 - val_accuracy: 0.7586 - val_loss: 0.4198\n",
            "Epoch 7/10\n",
            "\u001b[1m541/541\u001b[0m \u001b[32m━━━━━━━━━━━━━━━━━━━━\u001b[0m\u001b[37m\u001b[0m \u001b[1m1264s\u001b[0m 2s/step - accuracy: 0.8429 - loss: 0.4435 - val_accuracy: 0.8624 - val_loss: 0.3834\n",
            "Epoch 8/10\n",
            "\u001b[1m541/541\u001b[0m \u001b[32m━━━━━━━━━━━━━━━━━━━━\u001b[0m\u001b[37m\u001b[0m \u001b[1m36s\u001b[0m 64ms/step - accuracy: 0.8438 - loss: 0.3590 - val_accuracy: 0.8966 - val_loss: 0.3275\n",
            "Epoch 9/10\n",
            "\u001b[1m541/541\u001b[0m \u001b[32m━━━━━━━━━━━━━━━━━━━━\u001b[0m\u001b[37m\u001b[0m \u001b[1m1248s\u001b[0m 2s/step - accuracy: 0.8549 - loss: 0.3952 - val_accuracy: 0.8926 - val_loss: 0.3022\n",
            "Epoch 10/10\n",
            "\u001b[1m541/541\u001b[0m \u001b[32m━━━━━━━━━━━━━━━━━━━━\u001b[0m\u001b[37m\u001b[0m \u001b[1m43s\u001b[0m 77ms/step - accuracy: 0.7500 - loss: 0.5937 - val_accuracy: 0.8966 - val_loss: 0.3861\n"
          ]
        }
      ]
    },
    {
      "source": [
        "# Avaliar o modelo\n",
        "validation_steps = 541  # Número de passos de validação calculado\n",
        "loss, accuracy = model.evaluate(validation_generator, steps=validation_steps)\n",
        "print('Loss:', loss)\n",
        "print('Accuracy:', accuracy)"
      ],
      "cell_type": "code",
      "metadata": {
        "colab": {
          "base_uri": "https://localhost:8080/"
        },
        "id": "GOyIfqfJnRTu",
        "outputId": "31ba516b-dfe7-4cd3-e29b-ada943d4491f"
      },
      "execution_count": null,
      "outputs": [
        {
          "output_type": "stream",
          "name": "stdout",
          "text": [
            "\u001b[1m541/541\u001b[0m \u001b[32m━━━━━━━━━━━━━━━━━━━━\u001b[0m\u001b[37m\u001b[0m \u001b[1m295s\u001b[0m 545ms/step - accuracy: 0.8966 - loss: 0.2962\n",
            "Loss: 0.3016470670700073\n",
            "Accuracy: 0.8922712802886963\n"
          ]
        }
      ]
    },
    {
      "source": [
        "import matplotlib.pyplot as plt\n",
        "\n",
        "plt.plot(history.history['accuracy'], label='Accuracy')\n",
        "plt.plot(history.history['val_accuracy'], label='Validation Accuracy')\n",
        "plt.xlabel('Epoch')\n",
        "plt.ylabel('Accuracy')\n",
        "plt.title('Model Accuracy')\n",
        "plt.legend(loc='lower right')\n",
        "plt.show()"
      ],
      "cell_type": "code",
      "metadata": {
        "colab": {
          "base_uri": "https://localhost:8080/",
          "height": 472
        },
        "id": "LwY9UTeOwXzD",
        "outputId": "9645069d-b1ad-4965-e458-339b79604e68"
      },
      "execution_count": null,
      "outputs": [
        {
          "output_type": "display_data",
          "data": {
            "text/plain": [
              "<Figure size 640x480 with 1 Axes>"
            ],
            "image/png": "[encoded data removed]"
          },
          "metadata": {}
        }
      ]
    }
  ]
}